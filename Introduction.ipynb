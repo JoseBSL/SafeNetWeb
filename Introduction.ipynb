{
  "cells": [
    {
      "cell_type": "raw",
      "metadata": {},
      "source": [
        "---\n",
        "title: \"Safeguarding European wild pollinators\"\n",
        "subtitle: \"European metaweb of plant-pollinator interactions\"\n",
        "---"
      ],
      "id": "e174a173"
    },
    {
      "cell_type": "markdown",
      "metadata": {},
      "source": [
        "```{css title size, echo=FALSE}\n",
        ".title {\n",
        "  font-size: 35px;\n",
        "}\n",
        "```"
      ],
      "id": "82b44657"
    }
  ],
  "metadata": {
    "kernelspec": {
      "display_name": "Python 3",
      "language": "python",
      "name": "python3"
    }
  },
  "nbformat": 4,
  "nbformat_minor": 5
}